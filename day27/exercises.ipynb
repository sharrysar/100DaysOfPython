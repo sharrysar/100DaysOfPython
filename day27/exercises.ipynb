{
 "cells": [
  {
   "cell_type": "code",
   "execution_count": 2,
   "metadata": {},
   "outputs": [
    {
     "name": "stdout",
     "output_type": "stream",
     "text": [
      "15\n"
     ]
    }
   ],
   "source": [
    "def add(*args):\n",
    "    total = 0\n",
    "    for i in args:\n",
    "        total += i\n",
    "    return total\n",
    "\n",
    "print(add(1,2,3,4,5))"
   ]
  },
  {
   "cell_type": "code",
   "execution_count": 5,
   "metadata": {},
   "outputs": [
    {
     "name": "stdout",
     "output_type": "stream",
     "text": [
      "25\n"
     ]
    }
   ],
   "source": [
    "def calculate(n, **kwargs):\n",
    "    n += kwargs.get('add')\n",
    "    n *= kwargs.get('multiply')\n",
    "    return n\n",
    "\n",
    "print(calculate(2, add=3, multiply=5))"
   ]
  },
  {
   "cell_type": "code",
   "execution_count": 6,
   "metadata": {},
   "outputs": [
    {
     "name": "stdout",
     "output_type": "stream",
     "text": [
      "Honda\n"
     ]
    }
   ],
   "source": [
    "class Car:\n",
    "    def __init__(self, **kwargs) -> None:\n",
    "        # .get() is preferrable\n",
    "        self.make = kwargs['make']\n",
    "        self.model = kwargs['model']\n",
    "        self.year = kwargs['year']\n",
    "\n",
    "\n",
    "my_car = Car(make='Honda', model='Accord', year=2016)\n",
    "print(my_car.make)"
   ]
  },
  {
   "cell_type": "code",
   "execution_count": null,
   "metadata": {},
   "outputs": [],
   "source": [
    "from tkinter import *\n",
    "\n",
    "window = Tk()\n",
    "window.title(\"My first GUI program\")\n",
    "window.minsize(500,300)\n",
    "\n",
    "# label\n",
    "my_label = Label(text=\"I'm a label\")\n",
    "# .pack() is needed to for the label to show on gui\n",
    "my_label.pack()\n",
    "# or use my_label.grid(column=0, )\n",
    "\n",
    "\n",
    "# creating a button and changing the label when button is clicked\n",
    "def button_clicked():\n",
    "    # show value of input box as label\n",
    "    my_label['text'] = input.get()\n",
    "\n",
    "button = Button(text=\"click me!\", command=button_clicked)\n",
    "button.pack()\n",
    "\n",
    "# Entry (input box)\n",
    "input = Entry(width=10)\n",
    "input.pack()\n",
    "\n",
    "#Text\n",
    "text = Text(height=5, width=30)\n",
    "#Puts cursor in textbox.\n",
    "text.focus()\n",
    "#Adds some text to begin with.\n",
    "text.insert(END, \"Example of multi-line text entry.\")\n",
    "#Get's current value in textbox at line 1, character 0\n",
    "print(text.get(\"1.0\", END))\n",
    "text.pack()\n",
    "\n",
    "#Spinbox\n",
    "def spinbox_used():\n",
    "    #gets the current value in spinbox.\n",
    "    print(spinbox.get())\n",
    "spinbox = Spinbox(from_=0, to=10, width=5, command=spinbox_used)\n",
    "spinbox.pack()\n",
    "\n",
    "#Scale\n",
    "#Called with current scale value.\n",
    "def scale_used(value):\n",
    "    print(value)\n",
    "scale = Scale(from_=0, to=100, command=scale_used)\n",
    "scale.pack()\n",
    "\n",
    "#Checkbutton\n",
    "def checkbutton_used():\n",
    "    #Prints 1 if On button checked, otherwise 0.\n",
    "    print(checked_state.get())\n",
    "#variable to hold on to checked state, 0 is off, 1 is on.\n",
    "checked_state = IntVar()\n",
    "checkbutton = Checkbutton(text=\"Is On?\", variable=checked_state, command=checkbutton_used)\n",
    "checked_state.get()\n",
    "checkbutton.pack()\n",
    "\n",
    "#Radiobutton\n",
    "def radio_used():\n",
    "    print(radio_state.get())\n",
    "#Variable to hold on to which radio button value is checked.\n",
    "radio_state = IntVar()\n",
    "radiobutton1 = Radiobutton(text=\"Option1\", value=1, variable=radio_state, command=radio_used)\n",
    "radiobutton2 = Radiobutton(text=\"Option2\", value=2, variable=radio_state, command=radio_used)\n",
    "radiobutton1.pack()\n",
    "radiobutton2.pack()\n",
    "\n",
    "\n",
    "#Listbox\n",
    "def listbox_used(event):\n",
    "    # Gets current selection from listbox\n",
    "    print(listbox.get(listbox.curselection()))\n",
    "\n",
    "listbox = Listbox(height=4)\n",
    "fruits = [\"Apple\", \"Pear\", \"Orange\", \"Banana\"]\n",
    "for item in fruits:\n",
    "    listbox.insert(fruits.index(item), item)\n",
    "listbox.bind(\"<<ListboxSelect>>\", listbox_used)\n",
    "listbox.pack()\n",
    "\n",
    "\n",
    "\n",
    "window.mainloop()"
   ]
  }
 ],
 "metadata": {
  "kernelspec": {
   "display_name": "Python 3",
   "language": "python",
   "name": "python3"
  },
  "language_info": {
   "codemirror_mode": {
    "name": "ipython",
    "version": 3
   },
   "file_extension": ".py",
   "mimetype": "text/x-python",
   "name": "python",
   "nbconvert_exporter": "python",
   "pygments_lexer": "ipython3",
   "version": "3.8.10"
  }
 },
 "nbformat": 4,
 "nbformat_minor": 2
}
