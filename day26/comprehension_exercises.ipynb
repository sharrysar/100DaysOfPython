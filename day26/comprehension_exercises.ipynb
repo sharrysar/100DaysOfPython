{
 "cells": [
  {
   "cell_type": "code",
   "execution_count": null,
   "metadata": {},
   "outputs": [],
   "source": [
    "numbers = [1, 2, 3]\n",
    "new_nums = [num + 1 for num in numbers]\n",
    "print(new_nums)"
   ]
  },
  {
   "cell_type": "code",
   "execution_count": null,
   "metadata": {},
   "outputs": [],
   "source": [
    "range_list = [i * 2 for i in range(1,5)]\n",
    "print(range_list)"
   ]
  },
  {
   "cell_type": "code",
   "execution_count": null,
   "metadata": {},
   "outputs": [],
   "source": [
    "friends = [\"Monica\", \"Chandler\", \"Joey\", \"Phoebe\", \"Ross\", \"Rachel\"]\n",
    "short_names = [name for name in friends if len(name) < 5]\n",
    "capital = [name.upper() for name in friends if len(name) > 5]\n",
    "print(short_names)\n",
    "print(capital)"
   ]
  },
  {
   "cell_type": "code",
   "execution_count": null,
   "metadata": {},
   "outputs": [],
   "source": [
    "numbers = [1, 1, 2, 3, 5, 8, 13, 21, 34, 55]\n",
    "squared_numbers = [i ** 2 for i in numbers]\n",
    "print(squared_numbers)"
   ]
  },
  {
   "cell_type": "code",
   "execution_count": null,
   "metadata": {},
   "outputs": [],
   "source": [
    "list_of_strings = input().split(',')\n",
    "# 🚨 Do  not change the code above\n",
    "\n",
    "# TODO: Use list comprehension to convert the strings to integers 👇:\n",
    "new_nums = [int(num) for num in list_of_strings]\n",
    "\n",
    "# TODO: Use list comprehension to filter out the odd numbers\n",
    "# and store the even numbers in a list called \"result\"\n",
    "result = [num for num in new_nums if num % 2 == 0]\n",
    "\n",
    "# Write your code 👆 above:\n",
    "print(result)"
   ]
  },
  {
   "cell_type": "code",
   "execution_count": null,
   "metadata": {},
   "outputs": [],
   "source": [
    "import random\n",
    "friends = [\"Monica\", \"Chandler\", \"Joey\", \"Phoebe\", \"Ross\", \"Rachel\"]\n",
    "score = {name:random.randint(1,100) for name in friends}\n",
    "print(score)\n",
    "\n",
    "passed = {name:score for name,score in score.items() if score >= 60}\n",
    "print(passed)"
   ]
  },
  {
   "cell_type": "code",
   "execution_count": null,
   "metadata": {},
   "outputs": [],
   "source": [
    "# create a dictionary called result that takes each word in the given sentence \n",
    "# and calculates the number of letters in each word.\n",
    "sentence = \"What is the Airspeed Velocity of an Unladen Swallow?\"\n",
    "result = {word:len(word) for word in sentence.split() }\n",
    "\n",
    "print(result)"
   ]
  },
  {
   "cell_type": "code",
   "execution_count": null,
   "metadata": {},
   "outputs": [],
   "source": [
    "# create a dictionary called weather_f that takes each temperature in degrees Celsius \n",
    "# and converts it into degrees Fahrenheit.\n",
    "# c to f formula: (temp_c * 9/5) + 32 = temp_f\n",
    "weather_c = {\"Monday\": 12, \"Tuesday\": 14, \"Wednesday\": 15, \"Thursday\": 14, \"Friday\": 21, \"Saturday\": 22, \"Sunday\": 24}\n",
    "weather_f = {day:(temp_c * 9/5) + 32 for day, temp_c in weather_c.items()}\n",
    "\n",
    "print(weather_f)"
   ]
  },
  {
   "cell_type": "code",
   "execution_count": 2,
   "metadata": {},
   "outputs": [
    {
     "name": "stdout",
     "output_type": "stream",
     "text": [
      "98\n",
      "{'Ed': 56, 'Edd': 98, 'Eddy': 76}\n"
     ]
    }
   ],
   "source": [
    "import pandas\n",
    "student_dict = {\n",
    "    \"student\": [\"Ed\", \"Edd\", \"Eddy\"],\n",
    "    \"score\": [56, 98, 76]\n",
    "}\n",
    "df = pandas.DataFrame(student_dict)\n",
    "\n",
    "# loop through rows of a dataframe and print Edd's score\n",
    "for index, row in df.iterrows():\n",
    "    if row.student == \"Edd\":\n",
    "        print(row.score)\n",
    "\n",
    "# dict comprehension using pandas\n",
    "new_dict = {row.student:row.score for index, row in df.iterrows()}\n",
    "print(new_dict)\n"
   ]
  }
 ],
 "metadata": {
  "kernelspec": {
   "display_name": "Python 3",
   "language": "python",
   "name": "python3"
  },
  "language_info": {
   "codemirror_mode": {
    "name": "ipython",
    "version": 3
   },
   "file_extension": ".py",
   "mimetype": "text/x-python",
   "name": "python",
   "nbconvert_exporter": "python",
   "pygments_lexer": "ipython3",
   "version": "3.8.10"
  }
 },
 "nbformat": 4,
 "nbformat_minor": 2
}
